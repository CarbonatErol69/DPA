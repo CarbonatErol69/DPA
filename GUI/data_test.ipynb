{
 "cells": [
  {
   "cell_type": "code",
   "execution_count": null,
   "metadata": {},
   "outputs": [],
   "source": [
    "import pandas as pd"
   ]
  },
  {
   "cell_type": "code",
   "execution_count": null,
   "metadata": {},
   "outputs": [],
   "source": [
    "df_wahl = pd.read_csv(r'C:\\Users\\DE88342\\OneDrive - Grunenthal Group\\Desktop\\VSC - Py\\DPArenamed\\Data\\IMPORT_BOT2_Wahl.csv', delimiter= ';')\n",
    "df_event = pd.read_csv(r'C:\\Users\\DE88342\\OneDrive - Grunenthal Group\\Desktop\\VSC - Py\\DPArenamed\\Data\\IMPORT_BOT1_Veranstaltungsliste.csv', delimiter= ';')\n",
    "df_raum = pd.read_csv(r'C:\\Users\\DE88342\\OneDrive - Grunenthal Group\\Desktop\\VSC - Py\\DPArenamed\\Data\\IMPORT_BOT0_Raumliste.csv', delimiter= ';')"
   ]
  },
  {
   "cell_type": "code",
   "execution_count": null,
   "metadata": {},
   "outputs": [],
   "source": [
    "df_wahl.head(20)"
   ]
  },
  {
   "cell_type": "code",
   "execution_count": null,
   "metadata": {},
   "outputs": [],
   "source": [
    "value_counts = pd.concat([df_wahl['Wahl 1'].value_counts(),\n",
    "                         df_wahl['Wahl 2'].value_counts(),\n",
    "                         df_wahl['Wahl 3'].value_counts(),\n",
    "                         df_wahl['Wahl 4'].value_counts(),\n",
    "                         df_wahl['Wahl 5'].value_counts(),\n",
    "                         df_wahl['Wahl 6'].value_counts()], axis=1)\n",
    "\n",
    "column_names = ['Wahl1', 'Wahl2', 'Wahl3', 'Wahl4', 'Wahl5', 'Wahl6']\n",
    "value_counts.columns = column_names\n",
    "\n",
    "value_counts.insert(0, 'event_number', value_counts.index)\n",
    "\n",
    "print(value_counts)\n"
   ]
  },
  {
   "cell_type": "code",
   "execution_count": null,
   "metadata": {},
   "outputs": [],
   "source": [
    "df_event = df_event.rename(columns={'Nr. ': 'event_number'})\n",
    "df_event"
   ]
  },
  {
   "cell_type": "code",
   "execution_count": null,
   "metadata": {},
   "outputs": [],
   "source": [
    "def count_company_votes(df_wahl, df_event):\n",
    "    \n",
    "    # Sum the votes for each company\n",
    "    company_votes = value_counts.sum(axis=1)\n",
    "    \n",
    "    # Add the votes for companies with different indices\n",
    "    company_votes['Finanzamt'] = value_counts['Wahl1'].get(18, 0) + value_counts['Wahl1'].get(19, 0)\n",
    "    \n",
    "    # Divide the total votes by 20 to get the needed slots\n",
    "    needed_slots = company_votes.sum() / 20\n",
    "    \n",
    "    return needed_slots\n",
    "\n",
    "# Call the function with the loaded DataFrames\n",
    "needed_slots = count_company_votes(df_wahl, df_event)\n"
   ]
  },
  {
   "cell_type": "code",
   "execution_count": null,
   "metadata": {},
   "outputs": [],
   "source": [
    "import math\n",
    "merged_df = pd.merge(df_event, value_counts, on='event_number')\n",
    "\n",
    "merged_df['Total 1-3'] = merged_df[['Wahl1', 'Wahl2', 'Wahl3']].sum(axis=1).astype(int)\n",
    "\n",
    "merged_df['Total 4-6'] = merged_df[['Wahl4', 'Wahl5', 'Wahl6']].sum(axis=1).astype(int)\n",
    "\n",
    "merged_df['Total'] = merged_df['Total 1-3'] + merged_df['Total 4-6']\n",
    "\n",
    "merged_df['Nötige Slots'] = merged_df['Total 1-3'] / merged_df['Max. Teilnehmer']\n",
    "\n",
    "merged_df['Optionale Slots'] = merged_df['Total 4-6'] / merged_df['Max. Teilnehmer']\n",
    "\n",
    "# Round the 'Nötige Slots' column up or down\n",
    "merged_df['Rundet Nötige Slots'] = merged_df.apply(lambda row: math.ceil(row['Nötige Slots']) if row['Nötige Slots'] - math.floor(row['Nötige Slots']) >= (5 / row['Max. Teilnehmer']) else math.floor(row['Nötige Slots']), axis=1)\n",
    "\n",
    "# Round the 'Optionale Slots' column up or down\n",
    "merged_df['Rundet Optionale Slots'] = merged_df.apply(lambda row: math.ceil(row['Optionale Slots']) if row['Optionale Slots'] - math.floor(row['Optionale Slots']) >= (5 / row['Max. Teilnehmer']) else math.floor(row['Optionale Slots']), axis=1)\n",
    "\n",
    "merged_df"
   ]
  },
  {
   "cell_type": "code",
   "execution_count": null,
   "metadata": {},
   "outputs": [],
   "source": [
    "df_slots = pd.DataFrame(columns=['A', 'B', 'C', 'D', 'E'])\n",
    "\n",
    "df_timetable = pd.concat([df_raum, df_slots[['A', 'B', 'C', 'D', 'E']]], axis=1)"
   ]
  },
  {
   "cell_type": "code",
   "execution_count": null,
   "metadata": {},
   "outputs": [],
   "source": [
    "# Sort df_merged by 'Total 1-3' in descending order\n",
    "df_merged_sorted = merged_df.sort_values('Total 1-3', ascending=False)\n",
    "\n",
    "# Iterate over the sorted events\n",
    "for _, event in df_merged_sorted.iterrows():\n",
    "    event_number = event['event_number']\n",
    "    rundet_slots = event['Rundet Nötige Slots']\n",
    "    \n",
    "    # Find the room with the least number of events already assigned\n",
    "    min_events_room = df_timetable.iloc[:, 1:].apply(lambda row: row.notnull().sum(), axis=1).idxmin()\n",
    "    \n",
    "    # Assign the event to the room with the least number of events\n",
    "    room_row = df_timetable.loc[min_events_room]\n",
    "    available_slots = rundet_slots - room_row[1:].eq(event_number).sum()\n",
    "    available_columns = room_row[1:][room_row[1:].isnull()].index.tolist()\n",
    "    for i in range(min(available_slots, len(available_columns))):\n",
    "        df_timetable.loc[min_events_room, available_columns[i]] = event_number\n",
    "\n",
    "#TODO: check for frühester startzeitpunkt\n",
    "        \n",
    "#TODO: check for same company in ONE room \n",
    "        \n",
    "#TODO: \n",
    "\n",
    "df_timetable"
   ]
  }
 ],
 "metadata": {
  "kernelspec": {
   "display_name": "Python 3",
   "language": "python",
   "name": "python3"
  },
  "language_info": {
   "codemirror_mode": {
    "name": "ipython",
    "version": 3
   },
   "file_extension": ".py",
   "mimetype": "text/x-python",
   "name": "python",
   "nbconvert_exporter": "python",
   "pygments_lexer": "ipython3",
   "version": "3.11.5"
  }
 },
 "nbformat": 4,
 "nbformat_minor": 2
}
